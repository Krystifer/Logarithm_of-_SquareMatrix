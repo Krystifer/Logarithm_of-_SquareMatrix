{
 "cells": [
  {
   "cell_type": "code",
   "execution_count": 1,
   "id": "novel-miami",
   "metadata": {},
   "outputs": [],
   "source": [
    "import numpy as np"
   ]
  },
  {
   "cell_type": "code",
   "execution_count": 2,
   "id": "smaller-nevada",
   "metadata": {},
   "outputs": [],
   "source": [
    "def matx_definition(n)  :                   # 'n' is the size of the matrix\n",
    "    arr = list()\n",
    "    for i in range(n):\n",
    "        rows = np.array(input().split(\",\"))\n",
    "        rows = rows.astype(float)\n",
    "        arr.append(rows)\n",
    "    matx = np.matrix( arr , dtype = float)\n",
    "    return matx \n",
    "    "
   ]
  },
  {
   "cell_type": "markdown",
   "id": "included-rogers",
   "metadata": {},
   "source": [
    "Computes ln(A) with the desired degree of approximation"
   ]
  },
  {
   "cell_type": "code",
   "execution_count": 3,
   "id": "understood-alaska",
   "metadata": {},
   "outputs": [],
   "source": [
    "def natural_log(A, m):     # 'm' is the number of addends for the aproximation\n",
    "    size = A.shape\n",
    "    I = np.identity(int(size[0]))\n",
    "    output_matx = np.zeros(size, dtype = float)    \n",
    "    for i in range(m):\n",
    "        output_matx = output_matx + (np.linalg.matrix_power(A-I, i+1))*(((-1)**(i+2))/((i+1)*1.))\n",
    "    return output_matx\n",
    "          "
   ]
  },
  {
   "cell_type": "markdown",
   "id": "satisfactory-affiliate",
   "metadata": {},
   "source": [
    "Computes e^A with the desired degree of approximation"
   ]
  },
  {
   "cell_type": "code",
   "execution_count": 4,
   "id": "blocked-league",
   "metadata": {},
   "outputs": [],
   "source": [
    "def exponential_mat(A, m):     # 'm' is the number of addends for the aproximation\n",
    "    size = A.shape\n",
    "    output_matx = np.zeros(size, dtype = float)    \n",
    "    for i in range(m):\n",
    "        output_matx += (np.linalg.matrix_power(A, i))*(1./(np.math.factorial(i)))\n",
    "    return output_matx\n",
    "          "
   ]
  },
  {
   "cell_type": "markdown",
   "id": "convenient-subscription",
   "metadata": {},
   "source": [
    "### Example: Calculating the matrix ln(I-B)"
   ]
  },
  {
   "cell_type": "code",
   "execution_count": 5,
   "id": "oriented-highlight",
   "metadata": {},
   "outputs": [
    {
     "name": "stdout",
     "output_type": "stream",
     "text": [
      "0.35355,-0.35355\n",
      "0.35355,0.35355\n"
     ]
    }
   ],
   "source": [
    "B = matx_definition(2)        # To define a matrix enter columns separated by commas, and rows separated by line breaks.\n",
    "I = np.identity(2)            # define identity matrix for the function parameter in next step"
   ]
  },
  {
   "cell_type": "code",
   "execution_count": 6,
   "id": "physical-phase",
   "metadata": {},
   "outputs": [
    {
     "data": {
      "text/plain": [
       "array([[ 1.79069542,  0.66086824],\n",
       "       [-0.66086824,  1.79069542]])"
      ]
     },
     "execution_count": 6,
     "metadata": {},
     "output_type": "execute_result"
    }
   ],
   "source": [
    "exponential_mat(I-B,100)        # Exponential matrix of I-B with 100 addends"
   ]
  },
  {
   "cell_type": "code",
   "execution_count": 7,
   "id": "correct-casino",
   "metadata": {},
   "outputs": [
    {
     "data": {
      "text/plain": [
       "matrix([[-0.30541949,  0.50046779],\n",
       "        [-0.50046779, -0.30541949]])"
      ]
     },
     "execution_count": 7,
     "metadata": {},
     "output_type": "execute_result"
    }
   ],
   "source": [
    "natural_log(I-B, 100)          # natural log of I-B using 100 addends"
   ]
  },
  {
   "cell_type": "code",
   "execution_count": 8,
   "id": "judicial-illness",
   "metadata": {},
   "outputs": [
    {
     "name": "stdout",
     "output_type": "stream",
     "text": [
      "I-C:\n",
      " [[ 0.42521454 -0.27213454]\n",
      " [ 0.27213454  0.42521454]]\n",
      "---------------------------\n",
      "B:\n",
      " [[ 0.35355 -0.35355]\n",
      " [ 0.35355  0.35355]]\n"
     ]
    }
   ],
   "source": [
    "e_matx = exponential_mat(I-B,100)           # Since these two are inverse functions, C is matrix I-B, then B = I-C,\n",
    "C = natural_log(e_matx,100)                 # In this case is not exactly the same due to rounding errors and the nature of\n",
    "print(\"I-C:\\n\",I-C)                         # the method itself\n",
    "print(\"---------------------------\")  \n",
    "print(\"B:\\n\",B)                  "
   ]
  },
  {
   "cell_type": "code",
   "execution_count": null,
   "id": "presidential-setup",
   "metadata": {},
   "outputs": [],
   "source": []
  }
 ],
 "metadata": {
  "kernelspec": {
   "display_name": "Python 3",
   "language": "python",
   "name": "python3"
  },
  "language_info": {
   "codemirror_mode": {
    "name": "ipython",
    "version": 3
   },
   "file_extension": ".py",
   "mimetype": "text/x-python",
   "name": "python",
   "nbconvert_exporter": "python",
   "pygments_lexer": "ipython3",
   "version": "3.8.8"
  }
 },
 "nbformat": 4,
 "nbformat_minor": 5
}
